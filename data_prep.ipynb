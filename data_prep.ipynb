{
 "cells": [
  {
   "cell_type": "code",
   "execution_count": 24,
   "metadata": {},
   "outputs": [],
   "source": [
    "import pandas as pd\n",
    "import numpy as np\n",
    "from tqdm import tqdm_notebook\n",
    "from sklearn.preprocessing import StandardScaler, OneHotEncoder, LabelEncoder\n",
    "from sklearn.model_selection import train_test_split, GridSearchCV, RandomizedSearchCV\n",
    "# import pickle\n",
    "from sklearn.impute import SimpleImputer\n",
    "from sklearn.metrics import roc_auc_score\n",
    "# from xgboost import XGBClassifier\n",
    "from sklearn.model_selection import train_test_split\n",
    "from sklearn.model_selection import StratifiedKFold, KFold\n",
    "from sklearn.metrics import confusion_matrix, auc, roc_curve, roc_auc_score"
   ]
  },
  {
   "cell_type": "code",
   "execution_count": 26,
   "metadata": {},
   "outputs": [
    {
     "name": "stdout",
     "output_type": "stream",
     "text": [
      "(91713, 186)\n"
     ]
    }
   ],
   "source": [
    "df = pd.read_csv('~/data/wids2020/training_v2.csv', skipinitialspace=True)\n",
    "features = df.columns\n",
    "print(df.shape)"
   ]
  },
  {
   "cell_type": "code",
   "execution_count": 25,
   "metadata": {},
   "outputs": [
    {
     "name": "stdout",
     "output_type": "stream",
     "text": [
      "(39308, 186)\n"
     ]
    }
   ],
   "source": [
    "df_test = pd.read_csv('/home/deepta/data/wids2020/unlabeled.csv', skipinitialspace=True)\n",
    "print(df_test.shape)"
   ]
  },
  {
   "cell_type": "code",
   "execution_count": 56,
   "metadata": {},
   "outputs": [],
   "source": [
    "target_column = \"hospital_death\""
   ]
  },
  {
   "cell_type": "code",
   "execution_count": 6,
   "metadata": {},
   "outputs": [
    {
     "data": {
      "text/plain": [
       "Index(['encounter_id', 'patient_id', 'hospital_id', 'hospital_death', 'age',\n",
       "       'bmi', 'elective_surgery', 'ethnicity', 'gender', 'height'],\n",
       "      dtype='object')"
      ]
     },
     "execution_count": 6,
     "metadata": {},
     "output_type": "execute_result"
    }
   ],
   "source": [
    "features[0:10]"
   ]
  },
  {
   "cell_type": "markdown",
   "metadata": {},
   "source": [
    "### Label Distribution"
   ]
  },
  {
   "cell_type": "code",
   "execution_count": 57,
   "metadata": {},
   "outputs": [
    {
     "data": {
      "text/plain": [
       "0    83798\n",
       "1     7915\n",
       "Name: hospital_death, dtype: int64"
      ]
     },
     "execution_count": 57,
     "metadata": {},
     "output_type": "execute_result"
    }
   ],
   "source": [
    "df[target_column].value_counts()"
   ]
  },
  {
   "cell_type": "code",
   "execution_count": 62,
   "metadata": {},
   "outputs": [
    {
     "name": "stdout",
     "output_type": "stream",
     "text": [
      "91713\n"
     ]
    }
   ],
   "source": [
    "labels = df[target_column]\n",
    "print(len(labels))"
   ]
  },
  {
   "cell_type": "markdown",
   "metadata": {},
   "source": [
    "### Find ID-based columns"
   ]
  },
  {
   "cell_type": "code",
   "execution_count": 20,
   "metadata": {},
   "outputs": [
    {
     "name": "stdout",
     "output_type": "stream",
     "text": [
      "0 encounter_id\n",
      "1 patient_id\n",
      "2 hospital_id\n",
      "12 icu_id\n"
     ]
    }
   ],
   "source": [
    "for i, col in enumerate(features):\n",
    "    if('_id' in col):\n",
    "        print(i, col)"
   ]
  },
  {
   "cell_type": "code",
   "execution_count": 21,
   "metadata": {},
   "outputs": [],
   "source": [
    "id_columns = ['encounter_id', 'patient_id', 'hospital_id', 'icu_id']"
   ]
  },
  {
   "cell_type": "code",
   "execution_count": 13,
   "metadata": {},
   "outputs": [
    {
     "data": {
      "text/html": [
       "<div>\n",
       "<style scoped>\n",
       "    .dataframe tbody tr th:only-of-type {\n",
       "        vertical-align: middle;\n",
       "    }\n",
       "\n",
       "    .dataframe tbody tr th {\n",
       "        vertical-align: top;\n",
       "    }\n",
       "\n",
       "    .dataframe thead th {\n",
       "        text-align: right;\n",
       "    }\n",
       "</style>\n",
       "<table border=\"1\" class=\"dataframe\">\n",
       "  <thead>\n",
       "    <tr style=\"text-align: right;\">\n",
       "      <th></th>\n",
       "      <th>encounter_id</th>\n",
       "      <th>patient_id</th>\n",
       "      <th>hospital_id</th>\n",
       "      <th>hospital_death</th>\n",
       "      <th>age</th>\n",
       "      <th>bmi</th>\n",
       "      <th>elective_surgery</th>\n",
       "      <th>ethnicity</th>\n",
       "      <th>gender</th>\n",
       "      <th>height</th>\n",
       "      <th>...</th>\n",
       "      <th>aids</th>\n",
       "      <th>cirrhosis</th>\n",
       "      <th>diabetes_mellitus</th>\n",
       "      <th>hepatic_failure</th>\n",
       "      <th>immunosuppression</th>\n",
       "      <th>leukemia</th>\n",
       "      <th>lymphoma</th>\n",
       "      <th>solid_tumor_with_metastasis</th>\n",
       "      <th>apache_3j_bodysystem</th>\n",
       "      <th>apache_2_bodysystem</th>\n",
       "    </tr>\n",
       "  </thead>\n",
       "  <tbody>\n",
       "    <tr>\n",
       "      <th>0</th>\n",
       "      <td>66154</td>\n",
       "      <td>25312</td>\n",
       "      <td>118</td>\n",
       "      <td>0</td>\n",
       "      <td>68.0</td>\n",
       "      <td>22.73</td>\n",
       "      <td>0</td>\n",
       "      <td>Caucasian</td>\n",
       "      <td>M</td>\n",
       "      <td>180.3</td>\n",
       "      <td>...</td>\n",
       "      <td>0.0</td>\n",
       "      <td>0.0</td>\n",
       "      <td>1.0</td>\n",
       "      <td>0.0</td>\n",
       "      <td>0.0</td>\n",
       "      <td>0.0</td>\n",
       "      <td>0.0</td>\n",
       "      <td>0.0</td>\n",
       "      <td>Sepsis</td>\n",
       "      <td>Cardiovascular</td>\n",
       "    </tr>\n",
       "    <tr>\n",
       "      <th>1</th>\n",
       "      <td>114252</td>\n",
       "      <td>59342</td>\n",
       "      <td>81</td>\n",
       "      <td>0</td>\n",
       "      <td>77.0</td>\n",
       "      <td>27.42</td>\n",
       "      <td>0</td>\n",
       "      <td>Caucasian</td>\n",
       "      <td>F</td>\n",
       "      <td>160.0</td>\n",
       "      <td>...</td>\n",
       "      <td>0.0</td>\n",
       "      <td>0.0</td>\n",
       "      <td>1.0</td>\n",
       "      <td>0.0</td>\n",
       "      <td>0.0</td>\n",
       "      <td>0.0</td>\n",
       "      <td>0.0</td>\n",
       "      <td>0.0</td>\n",
       "      <td>Respiratory</td>\n",
       "      <td>Respiratory</td>\n",
       "    </tr>\n",
       "    <tr>\n",
       "      <th>2</th>\n",
       "      <td>119783</td>\n",
       "      <td>50777</td>\n",
       "      <td>118</td>\n",
       "      <td>0</td>\n",
       "      <td>25.0</td>\n",
       "      <td>31.95</td>\n",
       "      <td>0</td>\n",
       "      <td>Caucasian</td>\n",
       "      <td>F</td>\n",
       "      <td>172.7</td>\n",
       "      <td>...</td>\n",
       "      <td>0.0</td>\n",
       "      <td>0.0</td>\n",
       "      <td>0.0</td>\n",
       "      <td>0.0</td>\n",
       "      <td>0.0</td>\n",
       "      <td>0.0</td>\n",
       "      <td>0.0</td>\n",
       "      <td>0.0</td>\n",
       "      <td>Metabolic</td>\n",
       "      <td>Metabolic</td>\n",
       "    </tr>\n",
       "    <tr>\n",
       "      <th>3</th>\n",
       "      <td>79267</td>\n",
       "      <td>46918</td>\n",
       "      <td>118</td>\n",
       "      <td>0</td>\n",
       "      <td>81.0</td>\n",
       "      <td>22.64</td>\n",
       "      <td>1</td>\n",
       "      <td>Caucasian</td>\n",
       "      <td>F</td>\n",
       "      <td>165.1</td>\n",
       "      <td>...</td>\n",
       "      <td>0.0</td>\n",
       "      <td>0.0</td>\n",
       "      <td>0.0</td>\n",
       "      <td>0.0</td>\n",
       "      <td>0.0</td>\n",
       "      <td>0.0</td>\n",
       "      <td>0.0</td>\n",
       "      <td>0.0</td>\n",
       "      <td>Cardiovascular</td>\n",
       "      <td>Cardiovascular</td>\n",
       "    </tr>\n",
       "    <tr>\n",
       "      <th>4</th>\n",
       "      <td>92056</td>\n",
       "      <td>34377</td>\n",
       "      <td>33</td>\n",
       "      <td>0</td>\n",
       "      <td>19.0</td>\n",
       "      <td>NaN</td>\n",
       "      <td>0</td>\n",
       "      <td>Caucasian</td>\n",
       "      <td>M</td>\n",
       "      <td>188.0</td>\n",
       "      <td>...</td>\n",
       "      <td>0.0</td>\n",
       "      <td>0.0</td>\n",
       "      <td>0.0</td>\n",
       "      <td>0.0</td>\n",
       "      <td>0.0</td>\n",
       "      <td>0.0</td>\n",
       "      <td>0.0</td>\n",
       "      <td>0.0</td>\n",
       "      <td>Trauma</td>\n",
       "      <td>Trauma</td>\n",
       "    </tr>\n",
       "  </tbody>\n",
       "</table>\n",
       "<p>5 rows × 186 columns</p>\n",
       "</div>"
      ],
      "text/plain": [
       "   encounter_id  patient_id  hospital_id  hospital_death   age    bmi  \\\n",
       "0         66154       25312          118               0  68.0  22.73   \n",
       "1        114252       59342           81               0  77.0  27.42   \n",
       "2        119783       50777          118               0  25.0  31.95   \n",
       "3         79267       46918          118               0  81.0  22.64   \n",
       "4         92056       34377           33               0  19.0    NaN   \n",
       "\n",
       "   elective_surgery  ethnicity gender  height  ... aids cirrhosis  \\\n",
       "0                 0  Caucasian      M   180.3  ...  0.0       0.0   \n",
       "1                 0  Caucasian      F   160.0  ...  0.0       0.0   \n",
       "2                 0  Caucasian      F   172.7  ...  0.0       0.0   \n",
       "3                 1  Caucasian      F   165.1  ...  0.0       0.0   \n",
       "4                 0  Caucasian      M   188.0  ...  0.0       0.0   \n",
       "\n",
       "   diabetes_mellitus hepatic_failure immunosuppression  leukemia  lymphoma  \\\n",
       "0                1.0             0.0               0.0       0.0       0.0   \n",
       "1                1.0             0.0               0.0       0.0       0.0   \n",
       "2                0.0             0.0               0.0       0.0       0.0   \n",
       "3                0.0             0.0               0.0       0.0       0.0   \n",
       "4                0.0             0.0               0.0       0.0       0.0   \n",
       "\n",
       "   solid_tumor_with_metastasis  apache_3j_bodysystem  apache_2_bodysystem  \n",
       "0                          0.0                Sepsis       Cardiovascular  \n",
       "1                          0.0           Respiratory          Respiratory  \n",
       "2                          0.0             Metabolic            Metabolic  \n",
       "3                          0.0        Cardiovascular       Cardiovascular  \n",
       "4                          0.0                Trauma               Trauma  \n",
       "\n",
       "[5 rows x 186 columns]"
      ]
     },
     "execution_count": 13,
     "metadata": {},
     "output_type": "execute_result"
    }
   ],
   "source": [
    "df.head()"
   ]
  },
  {
   "cell_type": "markdown",
   "metadata": {},
   "source": [
    "### find categorical columns"
   ]
  },
  {
   "cell_type": "code",
   "execution_count": 22,
   "metadata": {},
   "outputs": [
    {
     "data": {
      "text/html": [
       "<div>\n",
       "<style scoped>\n",
       "    .dataframe tbody tr th:only-of-type {\n",
       "        vertical-align: middle;\n",
       "    }\n",
       "\n",
       "    .dataframe tbody tr th {\n",
       "        vertical-align: top;\n",
       "    }\n",
       "\n",
       "    .dataframe thead th {\n",
       "        text-align: right;\n",
       "    }\n",
       "</style>\n",
       "<table border=\"1\" class=\"dataframe\">\n",
       "  <thead>\n",
       "    <tr style=\"text-align: right;\">\n",
       "      <th></th>\n",
       "      <th>ethnicity</th>\n",
       "      <th>gender</th>\n",
       "      <th>hospital_admit_source</th>\n",
       "      <th>icu_admit_source</th>\n",
       "      <th>icu_stay_type</th>\n",
       "      <th>icu_type</th>\n",
       "      <th>apache_3j_bodysystem</th>\n",
       "      <th>apache_2_bodysystem</th>\n",
       "    </tr>\n",
       "  </thead>\n",
       "  <tbody>\n",
       "    <tr>\n",
       "      <th>0</th>\n",
       "      <td>Caucasian</td>\n",
       "      <td>M</td>\n",
       "      <td>Floor</td>\n",
       "      <td>Floor</td>\n",
       "      <td>admit</td>\n",
       "      <td>CTICU</td>\n",
       "      <td>Sepsis</td>\n",
       "      <td>Cardiovascular</td>\n",
       "    </tr>\n",
       "    <tr>\n",
       "      <th>1</th>\n",
       "      <td>Caucasian</td>\n",
       "      <td>F</td>\n",
       "      <td>Floor</td>\n",
       "      <td>Floor</td>\n",
       "      <td>admit</td>\n",
       "      <td>Med-Surg ICU</td>\n",
       "      <td>Respiratory</td>\n",
       "      <td>Respiratory</td>\n",
       "    </tr>\n",
       "    <tr>\n",
       "      <th>2</th>\n",
       "      <td>Caucasian</td>\n",
       "      <td>F</td>\n",
       "      <td>Emergency Department</td>\n",
       "      <td>Accident &amp; Emergency</td>\n",
       "      <td>admit</td>\n",
       "      <td>Med-Surg ICU</td>\n",
       "      <td>Metabolic</td>\n",
       "      <td>Metabolic</td>\n",
       "    </tr>\n",
       "    <tr>\n",
       "      <th>3</th>\n",
       "      <td>Caucasian</td>\n",
       "      <td>F</td>\n",
       "      <td>Operating Room</td>\n",
       "      <td>Operating Room / Recovery</td>\n",
       "      <td>admit</td>\n",
       "      <td>CTICU</td>\n",
       "      <td>Cardiovascular</td>\n",
       "      <td>Cardiovascular</td>\n",
       "    </tr>\n",
       "    <tr>\n",
       "      <th>4</th>\n",
       "      <td>Caucasian</td>\n",
       "      <td>M</td>\n",
       "      <td>NaN</td>\n",
       "      <td>Accident &amp; Emergency</td>\n",
       "      <td>admit</td>\n",
       "      <td>Med-Surg ICU</td>\n",
       "      <td>Trauma</td>\n",
       "      <td>Trauma</td>\n",
       "    </tr>\n",
       "  </tbody>\n",
       "</table>\n",
       "</div>"
      ],
      "text/plain": [
       "   ethnicity gender hospital_admit_source           icu_admit_source  \\\n",
       "0  Caucasian      M                 Floor                      Floor   \n",
       "1  Caucasian      F                 Floor                      Floor   \n",
       "2  Caucasian      F  Emergency Department       Accident & Emergency   \n",
       "3  Caucasian      F        Operating Room  Operating Room / Recovery   \n",
       "4  Caucasian      M                   NaN       Accident & Emergency   \n",
       "\n",
       "  icu_stay_type      icu_type apache_3j_bodysystem apache_2_bodysystem  \n",
       "0         admit         CTICU               Sepsis      Cardiovascular  \n",
       "1         admit  Med-Surg ICU          Respiratory         Respiratory  \n",
       "2         admit  Med-Surg ICU            Metabolic           Metabolic  \n",
       "3         admit         CTICU       Cardiovascular      Cardiovascular  \n",
       "4         admit  Med-Surg ICU               Trauma              Trauma  "
      ]
     },
     "execution_count": 22,
     "metadata": {},
     "output_type": "execute_result"
    }
   ],
   "source": [
    "df.loc[:, df.dtypes == object].head()"
   ]
  },
  {
   "cell_type": "code",
   "execution_count": 19,
   "metadata": {},
   "outputs": [
    {
     "name": "stdout",
     "output_type": "stream",
     "text": [
      "Index(['ethnicity', 'gender', 'hospital_admit_source', 'icu_admit_source',\n",
      "       'icu_stay_type', 'icu_type', 'apache_3j_bodysystem',\n",
      "       'apache_2_bodysystem'],\n",
      "      dtype='object')\n",
      "Number of categorical columns:  8\n"
     ]
    }
   ],
   "source": [
    "cat_columns = df.select_dtypes(include=['object']).columns\n",
    "print(cat_columns)\n",
    "print(\"Number of categorical columns: \", len(cat_columns))"
   ]
  },
  {
   "cell_type": "markdown",
   "metadata": {},
   "source": [
    "### Convert Categorical columns to Numerical"
   ]
  },
  {
   "cell_type": "code",
   "execution_count": 28,
   "metadata": {},
   "outputs": [],
   "source": [
    "cat_labenc_mapping = {\n",
    "    col: LabelEncoder()\n",
    "    for col in cat_columns\n",
    "}"
   ]
  },
  {
   "cell_type": "code",
   "execution_count": 29,
   "metadata": {},
   "outputs": [
    {
     "data": {
      "application/vnd.jupyter.widget-view+json": {
       "model_id": "51a8741d291f4d3a98712c2fe8efb3a7",
       "version_major": 2,
       "version_minor": 0
      },
      "text/plain": [
       "HBox(children=(IntProgress(value=0, max=8), HTML(value='')))"
      ]
     },
     "metadata": {},
     "output_type": "display_data"
    },
    {
     "name": "stdout",
     "output_type": "stream",
     "text": [
      "\n"
     ]
    }
   ],
   "source": [
    "for col in tqdm_notebook(cat_columns):\n",
    "    df[col] = df[col].astype('str')\n",
    "    cat_labenc_mapping[col] = cat_labenc_mapping[col].fit(\n",
    "        np.unique(df[col].unique().tolist() + df_test[col].unique().tolist())\n",
    "    )\n",
    "    df[col] = cat_labenc_mapping[col].transform(df[col])"
   ]
  },
  {
   "cell_type": "code",
   "execution_count": 32,
   "metadata": {},
   "outputs": [
    {
     "data": {
      "application/vnd.jupyter.widget-view+json": {
       "model_id": "97e9cc2a60b646ddb8bd36a0c7e8a191",
       "version_major": 2,
       "version_minor": 0
      },
      "text/plain": [
       "HBox(children=(IntProgress(value=0, max=8), HTML(value='')))"
      ]
     },
     "metadata": {},
     "output_type": "display_data"
    },
    {
     "name": "stdout",
     "output_type": "stream",
     "text": [
      "\n"
     ]
    }
   ],
   "source": [
    "for col in tqdm_notebook(cat_columns):\n",
    "    df_test[col] = df_test[col].astype('str')\n",
    "    df_test[col] = cat_labenc_mapping[col].transform(df_test[col])"
   ]
  },
  {
   "cell_type": "markdown",
   "metadata": {},
   "source": [
    "### Drop ID columns and target column"
   ]
  },
  {
   "cell_type": "code",
   "execution_count": 34,
   "metadata": {},
   "outputs": [
    {
     "data": {
      "text/html": [
       "<div>\n",
       "<style scoped>\n",
       "    .dataframe tbody tr th:only-of-type {\n",
       "        vertical-align: middle;\n",
       "    }\n",
       "\n",
       "    .dataframe tbody tr th {\n",
       "        vertical-align: top;\n",
       "    }\n",
       "\n",
       "    .dataframe thead th {\n",
       "        text-align: right;\n",
       "    }\n",
       "</style>\n",
       "<table border=\"1\" class=\"dataframe\">\n",
       "  <thead>\n",
       "    <tr style=\"text-align: right;\">\n",
       "      <th></th>\n",
       "      <th>hospital_death</th>\n",
       "      <th>age</th>\n",
       "      <th>bmi</th>\n",
       "      <th>elective_surgery</th>\n",
       "      <th>ethnicity</th>\n",
       "      <th>gender</th>\n",
       "      <th>height</th>\n",
       "      <th>hospital_admit_source</th>\n",
       "      <th>icu_admit_source</th>\n",
       "      <th>icu_stay_type</th>\n",
       "      <th>...</th>\n",
       "      <th>aids</th>\n",
       "      <th>cirrhosis</th>\n",
       "      <th>diabetes_mellitus</th>\n",
       "      <th>hepatic_failure</th>\n",
       "      <th>immunosuppression</th>\n",
       "      <th>leukemia</th>\n",
       "      <th>lymphoma</th>\n",
       "      <th>solid_tumor_with_metastasis</th>\n",
       "      <th>apache_3j_bodysystem</th>\n",
       "      <th>apache_2_bodysystem</th>\n",
       "    </tr>\n",
       "  </thead>\n",
       "  <tbody>\n",
       "    <tr>\n",
       "      <th>0</th>\n",
       "      <td>0</td>\n",
       "      <td>68.0</td>\n",
       "      <td>22.73</td>\n",
       "      <td>0</td>\n",
       "      <td>2</td>\n",
       "      <td>1</td>\n",
       "      <td>180.3</td>\n",
       "      <td>4</td>\n",
       "      <td>1</td>\n",
       "      <td>0</td>\n",
       "      <td>...</td>\n",
       "      <td>0.0</td>\n",
       "      <td>0.0</td>\n",
       "      <td>1.0</td>\n",
       "      <td>0.0</td>\n",
       "      <td>0.0</td>\n",
       "      <td>0.0</td>\n",
       "      <td>0.0</td>\n",
       "      <td>0.0</td>\n",
       "      <td>9</td>\n",
       "      <td>0</td>\n",
       "    </tr>\n",
       "    <tr>\n",
       "      <th>1</th>\n",
       "      <td>0</td>\n",
       "      <td>77.0</td>\n",
       "      <td>27.42</td>\n",
       "      <td>0</td>\n",
       "      <td>2</td>\n",
       "      <td>0</td>\n",
       "      <td>160.0</td>\n",
       "      <td>4</td>\n",
       "      <td>1</td>\n",
       "      <td>0</td>\n",
       "      <td>...</td>\n",
       "      <td>0.0</td>\n",
       "      <td>0.0</td>\n",
       "      <td>1.0</td>\n",
       "      <td>0.0</td>\n",
       "      <td>0.0</td>\n",
       "      <td>0.0</td>\n",
       "      <td>0.0</td>\n",
       "      <td>0.0</td>\n",
       "      <td>8</td>\n",
       "      <td>6</td>\n",
       "    </tr>\n",
       "    <tr>\n",
       "      <th>2</th>\n",
       "      <td>0</td>\n",
       "      <td>25.0</td>\n",
       "      <td>31.95</td>\n",
       "      <td>0</td>\n",
       "      <td>2</td>\n",
       "      <td>0</td>\n",
       "      <td>172.7</td>\n",
       "      <td>3</td>\n",
       "      <td>0</td>\n",
       "      <td>0</td>\n",
       "      <td>...</td>\n",
       "      <td>0.0</td>\n",
       "      <td>0.0</td>\n",
       "      <td>0.0</td>\n",
       "      <td>0.0</td>\n",
       "      <td>0.0</td>\n",
       "      <td>0.0</td>\n",
       "      <td>0.0</td>\n",
       "      <td>0.0</td>\n",
       "      <td>5</td>\n",
       "      <td>3</td>\n",
       "    </tr>\n",
       "    <tr>\n",
       "      <th>3</th>\n",
       "      <td>0</td>\n",
       "      <td>81.0</td>\n",
       "      <td>22.64</td>\n",
       "      <td>1</td>\n",
       "      <td>2</td>\n",
       "      <td>0</td>\n",
       "      <td>165.1</td>\n",
       "      <td>8</td>\n",
       "      <td>2</td>\n",
       "      <td>0</td>\n",
       "      <td>...</td>\n",
       "      <td>0.0</td>\n",
       "      <td>0.0</td>\n",
       "      <td>0.0</td>\n",
       "      <td>0.0</td>\n",
       "      <td>0.0</td>\n",
       "      <td>0.0</td>\n",
       "      <td>0.0</td>\n",
       "      <td>0.0</td>\n",
       "      <td>0</td>\n",
       "      <td>0</td>\n",
       "    </tr>\n",
       "    <tr>\n",
       "      <th>4</th>\n",
       "      <td>0</td>\n",
       "      <td>19.0</td>\n",
       "      <td>NaN</td>\n",
       "      <td>0</td>\n",
       "      <td>2</td>\n",
       "      <td>1</td>\n",
       "      <td>188.0</td>\n",
       "      <td>15</td>\n",
       "      <td>0</td>\n",
       "      <td>0</td>\n",
       "      <td>...</td>\n",
       "      <td>0.0</td>\n",
       "      <td>0.0</td>\n",
       "      <td>0.0</td>\n",
       "      <td>0.0</td>\n",
       "      <td>0.0</td>\n",
       "      <td>0.0</td>\n",
       "      <td>0.0</td>\n",
       "      <td>0.0</td>\n",
       "      <td>10</td>\n",
       "      <td>7</td>\n",
       "    </tr>\n",
       "  </tbody>\n",
       "</table>\n",
       "<p>5 rows × 182 columns</p>\n",
       "</div>"
      ],
      "text/plain": [
       "   hospital_death   age    bmi  elective_surgery  ethnicity  gender  height  \\\n",
       "0               0  68.0  22.73                 0          2       1   180.3   \n",
       "1               0  77.0  27.42                 0          2       0   160.0   \n",
       "2               0  25.0  31.95                 0          2       0   172.7   \n",
       "3               0  81.0  22.64                 1          2       0   165.1   \n",
       "4               0  19.0    NaN                 0          2       1   188.0   \n",
       "\n",
       "   hospital_admit_source  icu_admit_source  icu_stay_type  ...  aids  \\\n",
       "0                      4                 1              0  ...   0.0   \n",
       "1                      4                 1              0  ...   0.0   \n",
       "2                      3                 0              0  ...   0.0   \n",
       "3                      8                 2              0  ...   0.0   \n",
       "4                     15                 0              0  ...   0.0   \n",
       "\n",
       "   cirrhosis  diabetes_mellitus  hepatic_failure  immunosuppression  leukemia  \\\n",
       "0        0.0                1.0              0.0                0.0       0.0   \n",
       "1        0.0                1.0              0.0                0.0       0.0   \n",
       "2        0.0                0.0              0.0                0.0       0.0   \n",
       "3        0.0                0.0              0.0                0.0       0.0   \n",
       "4        0.0                0.0              0.0                0.0       0.0   \n",
       "\n",
       "   lymphoma  solid_tumor_with_metastasis  apache_3j_bodysystem  \\\n",
       "0       0.0                          0.0                     9   \n",
       "1       0.0                          0.0                     8   \n",
       "2       0.0                          0.0                     5   \n",
       "3       0.0                          0.0                     0   \n",
       "4       0.0                          0.0                    10   \n",
       "\n",
       "   apache_2_bodysystem  \n",
       "0                    0  \n",
       "1                    6  \n",
       "2                    3  \n",
       "3                    0  \n",
       "4                    7  \n",
       "\n",
       "[5 rows x 182 columns]"
      ]
     },
     "execution_count": 34,
     "metadata": {},
     "output_type": "execute_result"
    }
   ],
   "source": [
    "df = df.drop(id_columns, axis=1)\n",
    "df.head()"
   ]
  },
  {
   "cell_type": "code",
   "execution_count": 63,
   "metadata": {},
   "outputs": [],
   "source": [
    "df = df.drop(target_column, axis=1)"
   ]
  },
  {
   "cell_type": "code",
   "execution_count": 81,
   "metadata": {},
   "outputs": [],
   "source": [
    "df_test = df_test.drop(target_column, axis=1)"
   ]
  },
  {
   "cell_type": "code",
   "execution_count": 35,
   "metadata": {},
   "outputs": [],
   "source": [
    "df_test = df_test.drop(id_columns, axis=1)"
   ]
  },
  {
   "cell_type": "markdown",
   "metadata": {},
   "source": [
    "### Drop meaningless columns\n",
    "\n",
    "- 'readmission_status' has all zeros"
   ]
  },
  {
   "cell_type": "code",
   "execution_count": 54,
   "metadata": {},
   "outputs": [],
   "source": [
    "useless_columns = ['readmission_status']\n",
    "df = df.drop(useless_columns, axis=1)\n",
    "df_test = df_test.drop(useless_columns, axis=1)"
   ]
  },
  {
   "cell_type": "code",
   "execution_count": 42,
   "metadata": {},
   "outputs": [
    {
     "data": {
      "text/plain": [
       "0    91713\n",
       "Name: readmission_status, dtype: int64"
      ]
     },
     "execution_count": 42,
     "metadata": {},
     "output_type": "execute_result"
    }
   ],
   "source": [
    "df['readmission_status'].value_counts()"
   ]
  },
  {
   "cell_type": "markdown",
   "metadata": {},
   "source": [
    "### Imputing Missing Values\n",
    "\n",
    "- frequent for categorical and binary columns\n",
    "- median for numerical columns\n"
   ]
  },
  {
   "cell_type": "code",
   "execution_count": 36,
   "metadata": {},
   "outputs": [],
   "source": [
    "# bin_columns = [col for col in df if np.isin(df[col].unique(), [0, 1]).all()]"
   ]
  },
  {
   "cell_type": "code",
   "execution_count": 51,
   "metadata": {},
   "outputs": [],
   "source": [
    "binary_columns = [\n",
    "    \"apache_post_operative\", \"arf_apache\", \"cirrhosis\", \"diabetes_mellitus\", \"immunosuppression\",\n",
    "    \"hepatic_failure\", \"leukemia\", \"lymphoma\", \"solid_tumor_with_metastasis\", \"gcs_unable_apache\",\n",
    "    \"intubated_apache\", \"ventilated_apache\", \"elective_surgery\"\n",
    "]"
   ]
  },
  {
   "cell_type": "code",
   "execution_count": 74,
   "metadata": {},
   "outputs": [
    {
     "data": {
      "text/plain": [
       "13"
      ]
     },
     "execution_count": 74,
     "metadata": {},
     "output_type": "execute_result"
    }
   ],
   "source": [
    "len(binary_columns)"
   ]
  },
  {
   "cell_type": "code",
   "execution_count": 64,
   "metadata": {},
   "outputs": [
    {
     "name": "stdout",
     "output_type": "stream",
     "text": [
      "159\n",
      "['age', 'aids', 'albumin_apache', 'apache_2_diagnosis', 'apache_3j_diagnosis', 'apache_4a_hospital_death_prob', 'apache_4a_icu_death_prob', 'bilirubin_apache', 'bmi', 'bun_apache', 'creatinine_apache', 'd1_albumin_max', 'd1_albumin_min', 'd1_arterial_pco2_max', 'd1_arterial_pco2_min', 'd1_arterial_ph_max', 'd1_arterial_ph_min', 'd1_arterial_po2_max', 'd1_arterial_po2_min', 'd1_bilirubin_max', 'd1_bilirubin_min', 'd1_bun_max', 'd1_bun_min', 'd1_calcium_max', 'd1_calcium_min', 'd1_creatinine_max', 'd1_creatinine_min', 'd1_diasbp_invasive_max', 'd1_diasbp_invasive_min', 'd1_diasbp_max', 'd1_diasbp_min', 'd1_diasbp_noninvasive_max', 'd1_diasbp_noninvasive_min', 'd1_glucose_max', 'd1_glucose_min', 'd1_hco3_max', 'd1_hco3_min', 'd1_heartrate_max', 'd1_heartrate_min', 'd1_hemaglobin_max', 'd1_hemaglobin_min', 'd1_hematocrit_max', 'd1_hematocrit_min', 'd1_inr_max', 'd1_inr_min', 'd1_lactate_max', 'd1_lactate_min', 'd1_mbp_invasive_max', 'd1_mbp_invasive_min', 'd1_mbp_max', 'd1_mbp_min', 'd1_mbp_noninvasive_max', 'd1_mbp_noninvasive_min', 'd1_pao2fio2ratio_max', 'd1_pao2fio2ratio_min', 'd1_platelets_max', 'd1_platelets_min', 'd1_potassium_max', 'd1_potassium_min', 'd1_resprate_max', 'd1_resprate_min', 'd1_sodium_max', 'd1_sodium_min', 'd1_spo2_max', 'd1_spo2_min', 'd1_sysbp_invasive_max', 'd1_sysbp_invasive_min', 'd1_sysbp_max', 'd1_sysbp_min', 'd1_sysbp_noninvasive_max', 'd1_sysbp_noninvasive_min', 'd1_temp_max', 'd1_temp_min', 'd1_wbc_max', 'd1_wbc_min', 'fio2_apache', 'gcs_eyes_apache', 'gcs_motor_apache', 'gcs_verbal_apache', 'glucose_apache', 'h1_albumin_max', 'h1_albumin_min', 'h1_arterial_pco2_max', 'h1_arterial_pco2_min', 'h1_arterial_ph_max', 'h1_arterial_ph_min', 'h1_arterial_po2_max', 'h1_arterial_po2_min', 'h1_bilirubin_max', 'h1_bilirubin_min', 'h1_bun_max', 'h1_bun_min', 'h1_calcium_max', 'h1_calcium_min', 'h1_creatinine_max', 'h1_creatinine_min', 'h1_diasbp_invasive_max', 'h1_diasbp_invasive_min', 'h1_diasbp_max', 'h1_diasbp_min', 'h1_diasbp_noninvasive_max', 'h1_diasbp_noninvasive_min', 'h1_glucose_max', 'h1_glucose_min', 'h1_hco3_max', 'h1_hco3_min', 'h1_heartrate_max', 'h1_heartrate_min', 'h1_hemaglobin_max', 'h1_hemaglobin_min', 'h1_hematocrit_max', 'h1_hematocrit_min', 'h1_inr_max', 'h1_inr_min', 'h1_lactate_max', 'h1_lactate_min', 'h1_mbp_invasive_max', 'h1_mbp_invasive_min', 'h1_mbp_max', 'h1_mbp_min', 'h1_mbp_noninvasive_max', 'h1_mbp_noninvasive_min', 'h1_pao2fio2ratio_max', 'h1_pao2fio2ratio_min', 'h1_platelets_max', 'h1_platelets_min', 'h1_potassium_max', 'h1_potassium_min', 'h1_resprate_max', 'h1_resprate_min', 'h1_sodium_max', 'h1_sodium_min', 'h1_spo2_max', 'h1_spo2_min', 'h1_sysbp_invasive_max', 'h1_sysbp_invasive_min', 'h1_sysbp_max', 'h1_sysbp_min', 'h1_sysbp_noninvasive_max', 'h1_sysbp_noninvasive_min', 'h1_temp_max', 'h1_temp_min', 'h1_wbc_max', 'h1_wbc_min', 'heart_rate_apache', 'height', 'hematocrit_apache', 'map_apache', 'paco2_apache', 'paco2_for_ph_apache', 'pao2_apache', 'ph_apache', 'pre_icu_los_days', 'resprate_apache', 'sodium_apache', 'temp_apache', 'urineoutput_apache', 'wbc_apache', 'weight']\n"
     ]
    }
   ],
   "source": [
    "num_columns = list(cat_columns.union(binary_columns).symmetric_difference(df.columns))\n",
    "print(len(num_columns))\n",
    "print(num_columns)"
   ]
  },
  {
   "cell_type": "code",
   "execution_count": 65,
   "metadata": {},
   "outputs": [],
   "source": [
    "cat_col2imputer_mapping = {\n",
    "    col: SimpleImputer(strategy='most_frequent')\n",
    "    for col in cat_columns\n",
    "}\n",
    "\n",
    "bin_col2imputer_mapping = {\n",
    "    col: SimpleImputer(strategy='most_frequent')\n",
    "    for col in binary_columns\n",
    "}\n",
    "\n",
    "cont_col2imputer_mapping = {\n",
    "    col: SimpleImputer(strategy='median')\n",
    "    for col in num_columns\n",
    "}\n",
    "\n",
    "all_imp_dicts = [cat_col2imputer_mapping, cont_col2imputer_mapping, bin_col2imputer_mapping]"
   ]
  },
  {
   "cell_type": "code",
   "execution_count": 69,
   "metadata": {},
   "outputs": [
    {
     "data": {
      "application/vnd.jupyter.widget-view+json": {
       "model_id": "d14a446067f640d7a93bd7b822927a9c",
       "version_major": 2,
       "version_minor": 0
      },
      "text/plain": [
       "HBox(children=(IntProgress(value=0, max=3), HTML(value='')))"
      ]
     },
     "metadata": {},
     "output_type": "display_data"
    },
    {
     "name": "stdout",
     "output_type": "stream",
     "text": [
      "\n"
     ]
    }
   ],
   "source": [
    "for imp_mapping_obj in tqdm_notebook(all_imp_dicts):\n",
    "    for col, imp_object in imp_mapping_obj.items():\n",
    "        data = df[col].values.reshape(-1, 1)\n",
    "        imp_object.fit(data)"
   ]
  },
  {
   "cell_type": "code",
   "execution_count": 70,
   "metadata": {},
   "outputs": [
    {
     "data": {
      "application/vnd.jupyter.widget-view+json": {
       "model_id": "f78faccf60914a7b86a867f99b450a65",
       "version_major": 2,
       "version_minor": 0
      },
      "text/plain": [
       "HBox(children=(IntProgress(value=0, max=3), HTML(value='')))"
      ]
     },
     "metadata": {},
     "output_type": "display_data"
    },
    {
     "name": "stdout",
     "output_type": "stream",
     "text": [
      "ethnicity SimpleImputer(copy=True, fill_value=None, missing_values=nan,\n",
      "       strategy='most_frequent', verbose=0)\n",
      "gender SimpleImputer(copy=True, fill_value=None, missing_values=nan,\n",
      "       strategy='most_frequent', verbose=0)\n",
      "hospital_admit_source SimpleImputer(copy=True, fill_value=None, missing_values=nan,\n",
      "       strategy='most_frequent', verbose=0)\n",
      "icu_admit_source SimpleImputer(copy=True, fill_value=None, missing_values=nan,\n",
      "       strategy='most_frequent', verbose=0)\n",
      "icu_stay_type SimpleImputer(copy=True, fill_value=None, missing_values=nan,\n",
      "       strategy='most_frequent', verbose=0)\n",
      "icu_type SimpleImputer(copy=True, fill_value=None, missing_values=nan,\n",
      "       strategy='most_frequent', verbose=0)\n",
      "apache_3j_bodysystem SimpleImputer(copy=True, fill_value=None, missing_values=nan,\n",
      "       strategy='most_frequent', verbose=0)\n",
      "apache_2_bodysystem SimpleImputer(copy=True, fill_value=None, missing_values=nan,\n",
      "       strategy='most_frequent', verbose=0)\n",
      "age SimpleImputer(copy=True, fill_value=None, missing_values=nan,\n",
      "       strategy='median', verbose=0)\n",
      "aids SimpleImputer(copy=True, fill_value=None, missing_values=nan,\n",
      "       strategy='median', verbose=0)\n",
      "albumin_apache SimpleImputer(copy=True, fill_value=None, missing_values=nan,\n",
      "       strategy='median', verbose=0)\n",
      "apache_2_diagnosis SimpleImputer(copy=True, fill_value=None, missing_values=nan,\n",
      "       strategy='median', verbose=0)\n",
      "apache_3j_diagnosis SimpleImputer(copy=True, fill_value=None, missing_values=nan,\n",
      "       strategy='median', verbose=0)\n",
      "apache_4a_hospital_death_prob SimpleImputer(copy=True, fill_value=None, missing_values=nan,\n",
      "       strategy='median', verbose=0)\n",
      "apache_4a_icu_death_prob SimpleImputer(copy=True, fill_value=None, missing_values=nan,\n",
      "       strategy='median', verbose=0)\n",
      "bilirubin_apache SimpleImputer(copy=True, fill_value=None, missing_values=nan,\n",
      "       strategy='median', verbose=0)\n",
      "bmi SimpleImputer(copy=True, fill_value=None, missing_values=nan,\n",
      "       strategy='median', verbose=0)\n",
      "bun_apache SimpleImputer(copy=True, fill_value=None, missing_values=nan,\n",
      "       strategy='median', verbose=0)\n",
      "creatinine_apache SimpleImputer(copy=True, fill_value=None, missing_values=nan,\n",
      "       strategy='median', verbose=0)\n",
      "d1_albumin_max SimpleImputer(copy=True, fill_value=None, missing_values=nan,\n",
      "       strategy='median', verbose=0)\n",
      "d1_albumin_min SimpleImputer(copy=True, fill_value=None, missing_values=nan,\n",
      "       strategy='median', verbose=0)\n",
      "d1_arterial_pco2_max SimpleImputer(copy=True, fill_value=None, missing_values=nan,\n",
      "       strategy='median', verbose=0)\n",
      "d1_arterial_pco2_min SimpleImputer(copy=True, fill_value=None, missing_values=nan,\n",
      "       strategy='median', verbose=0)\n",
      "d1_arterial_ph_max SimpleImputer(copy=True, fill_value=None, missing_values=nan,\n",
      "       strategy='median', verbose=0)\n",
      "d1_arterial_ph_min SimpleImputer(copy=True, fill_value=None, missing_values=nan,\n",
      "       strategy='median', verbose=0)\n",
      "d1_arterial_po2_max SimpleImputer(copy=True, fill_value=None, missing_values=nan,\n",
      "       strategy='median', verbose=0)\n",
      "d1_arterial_po2_min SimpleImputer(copy=True, fill_value=None, missing_values=nan,\n",
      "       strategy='median', verbose=0)\n",
      "d1_bilirubin_max SimpleImputer(copy=True, fill_value=None, missing_values=nan,\n",
      "       strategy='median', verbose=0)\n",
      "d1_bilirubin_min SimpleImputer(copy=True, fill_value=None, missing_values=nan,\n",
      "       strategy='median', verbose=0)\n",
      "d1_bun_max SimpleImputer(copy=True, fill_value=None, missing_values=nan,\n",
      "       strategy='median', verbose=0)\n",
      "d1_bun_min SimpleImputer(copy=True, fill_value=None, missing_values=nan,\n",
      "       strategy='median', verbose=0)\n",
      "d1_calcium_max SimpleImputer(copy=True, fill_value=None, missing_values=nan,\n",
      "       strategy='median', verbose=0)\n",
      "d1_calcium_min SimpleImputer(copy=True, fill_value=None, missing_values=nan,\n",
      "       strategy='median', verbose=0)\n",
      "d1_creatinine_max SimpleImputer(copy=True, fill_value=None, missing_values=nan,\n",
      "       strategy='median', verbose=0)\n",
      "d1_creatinine_min SimpleImputer(copy=True, fill_value=None, missing_values=nan,\n",
      "       strategy='median', verbose=0)\n",
      "d1_diasbp_invasive_max SimpleImputer(copy=True, fill_value=None, missing_values=nan,\n",
      "       strategy='median', verbose=0)\n",
      "d1_diasbp_invasive_min SimpleImputer(copy=True, fill_value=None, missing_values=nan,\n",
      "       strategy='median', verbose=0)\n",
      "d1_diasbp_max SimpleImputer(copy=True, fill_value=None, missing_values=nan,\n",
      "       strategy='median', verbose=0)\n",
      "d1_diasbp_min SimpleImputer(copy=True, fill_value=None, missing_values=nan,\n",
      "       strategy='median', verbose=0)\n",
      "d1_diasbp_noninvasive_max SimpleImputer(copy=True, fill_value=None, missing_values=nan,\n",
      "       strategy='median', verbose=0)\n",
      "d1_diasbp_noninvasive_min SimpleImputer(copy=True, fill_value=None, missing_values=nan,\n",
      "       strategy='median', verbose=0)\n",
      "d1_glucose_max SimpleImputer(copy=True, fill_value=None, missing_values=nan,\n",
      "       strategy='median', verbose=0)\n",
      "d1_glucose_min SimpleImputer(copy=True, fill_value=None, missing_values=nan,\n",
      "       strategy='median', verbose=0)\n",
      "d1_hco3_max SimpleImputer(copy=True, fill_value=None, missing_values=nan,\n",
      "       strategy='median', verbose=0)\n",
      "d1_hco3_min SimpleImputer(copy=True, fill_value=None, missing_values=nan,\n",
      "       strategy='median', verbose=0)\n",
      "d1_heartrate_max SimpleImputer(copy=True, fill_value=None, missing_values=nan,\n",
      "       strategy='median', verbose=0)\n",
      "d1_heartrate_min SimpleImputer(copy=True, fill_value=None, missing_values=nan,\n",
      "       strategy='median', verbose=0)\n",
      "d1_hemaglobin_max SimpleImputer(copy=True, fill_value=None, missing_values=nan,\n",
      "       strategy='median', verbose=0)\n",
      "d1_hemaglobin_min SimpleImputer(copy=True, fill_value=None, missing_values=nan,\n",
      "       strategy='median', verbose=0)\n",
      "d1_hematocrit_max SimpleImputer(copy=True, fill_value=None, missing_values=nan,\n",
      "       strategy='median', verbose=0)\n",
      "d1_hematocrit_min SimpleImputer(copy=True, fill_value=None, missing_values=nan,\n",
      "       strategy='median', verbose=0)\n",
      "d1_inr_max SimpleImputer(copy=True, fill_value=None, missing_values=nan,\n",
      "       strategy='median', verbose=0)\n",
      "d1_inr_min SimpleImputer(copy=True, fill_value=None, missing_values=nan,\n",
      "       strategy='median', verbose=0)\n",
      "d1_lactate_max SimpleImputer(copy=True, fill_value=None, missing_values=nan,\n",
      "       strategy='median', verbose=0)\n",
      "d1_lactate_min SimpleImputer(copy=True, fill_value=None, missing_values=nan,\n",
      "       strategy='median', verbose=0)\n",
      "d1_mbp_invasive_max SimpleImputer(copy=True, fill_value=None, missing_values=nan,\n",
      "       strategy='median', verbose=0)\n",
      "d1_mbp_invasive_min SimpleImputer(copy=True, fill_value=None, missing_values=nan,\n",
      "       strategy='median', verbose=0)\n",
      "d1_mbp_max SimpleImputer(copy=True, fill_value=None, missing_values=nan,\n",
      "       strategy='median', verbose=0)\n",
      "d1_mbp_min SimpleImputer(copy=True, fill_value=None, missing_values=nan,\n",
      "       strategy='median', verbose=0)\n",
      "d1_mbp_noninvasive_max SimpleImputer(copy=True, fill_value=None, missing_values=nan,\n",
      "       strategy='median', verbose=0)\n",
      "d1_mbp_noninvasive_min SimpleImputer(copy=True, fill_value=None, missing_values=nan,\n",
      "       strategy='median', verbose=0)\n",
      "d1_pao2fio2ratio_max SimpleImputer(copy=True, fill_value=None, missing_values=nan,\n",
      "       strategy='median', verbose=0)\n",
      "d1_pao2fio2ratio_min SimpleImputer(copy=True, fill_value=None, missing_values=nan,\n",
      "       strategy='median', verbose=0)\n",
      "d1_platelets_max SimpleImputer(copy=True, fill_value=None, missing_values=nan,\n",
      "       strategy='median', verbose=0)\n",
      "d1_platelets_min SimpleImputer(copy=True, fill_value=None, missing_values=nan,\n",
      "       strategy='median', verbose=0)\n",
      "d1_potassium_max SimpleImputer(copy=True, fill_value=None, missing_values=nan,\n",
      "       strategy='median', verbose=0)\n",
      "d1_potassium_min SimpleImputer(copy=True, fill_value=None, missing_values=nan,\n",
      "       strategy='median', verbose=0)\n",
      "d1_resprate_max SimpleImputer(copy=True, fill_value=None, missing_values=nan,\n",
      "       strategy='median', verbose=0)\n",
      "d1_resprate_min SimpleImputer(copy=True, fill_value=None, missing_values=nan,\n",
      "       strategy='median', verbose=0)\n",
      "d1_sodium_max SimpleImputer(copy=True, fill_value=None, missing_values=nan,\n",
      "       strategy='median', verbose=0)\n",
      "d1_sodium_min SimpleImputer(copy=True, fill_value=None, missing_values=nan,\n",
      "       strategy='median', verbose=0)\n",
      "d1_spo2_max SimpleImputer(copy=True, fill_value=None, missing_values=nan,\n",
      "       strategy='median', verbose=0)\n",
      "d1_spo2_min SimpleImputer(copy=True, fill_value=None, missing_values=nan,\n",
      "       strategy='median', verbose=0)\n",
      "d1_sysbp_invasive_max SimpleImputer(copy=True, fill_value=None, missing_values=nan,\n",
      "       strategy='median', verbose=0)\n",
      "d1_sysbp_invasive_min SimpleImputer(copy=True, fill_value=None, missing_values=nan,\n",
      "       strategy='median', verbose=0)\n",
      "d1_sysbp_max SimpleImputer(copy=True, fill_value=None, missing_values=nan,\n",
      "       strategy='median', verbose=0)\n",
      "d1_sysbp_min SimpleImputer(copy=True, fill_value=None, missing_values=nan,\n",
      "       strategy='median', verbose=0)\n",
      "d1_sysbp_noninvasive_max SimpleImputer(copy=True, fill_value=None, missing_values=nan,\n",
      "       strategy='median', verbose=0)\n",
      "d1_sysbp_noninvasive_min SimpleImputer(copy=True, fill_value=None, missing_values=nan,\n",
      "       strategy='median', verbose=0)\n",
      "d1_temp_max SimpleImputer(copy=True, fill_value=None, missing_values=nan,\n",
      "       strategy='median', verbose=0)\n",
      "d1_temp_min SimpleImputer(copy=True, fill_value=None, missing_values=nan,\n",
      "       strategy='median', verbose=0)\n"
     ]
    },
    {
     "name": "stdout",
     "output_type": "stream",
     "text": [
      "d1_wbc_max SimpleImputer(copy=True, fill_value=None, missing_values=nan,\n",
      "       strategy='median', verbose=0)\n",
      "d1_wbc_min SimpleImputer(copy=True, fill_value=None, missing_values=nan,\n",
      "       strategy='median', verbose=0)\n",
      "fio2_apache SimpleImputer(copy=True, fill_value=None, missing_values=nan,\n",
      "       strategy='median', verbose=0)\n",
      "gcs_eyes_apache SimpleImputer(copy=True, fill_value=None, missing_values=nan,\n",
      "       strategy='median', verbose=0)\n",
      "gcs_motor_apache SimpleImputer(copy=True, fill_value=None, missing_values=nan,\n",
      "       strategy='median', verbose=0)\n",
      "gcs_verbal_apache SimpleImputer(copy=True, fill_value=None, missing_values=nan,\n",
      "       strategy='median', verbose=0)\n",
      "glucose_apache SimpleImputer(copy=True, fill_value=None, missing_values=nan,\n",
      "       strategy='median', verbose=0)\n",
      "h1_albumin_max SimpleImputer(copy=True, fill_value=None, missing_values=nan,\n",
      "       strategy='median', verbose=0)\n",
      "h1_albumin_min SimpleImputer(copy=True, fill_value=None, missing_values=nan,\n",
      "       strategy='median', verbose=0)\n",
      "h1_arterial_pco2_max SimpleImputer(copy=True, fill_value=None, missing_values=nan,\n",
      "       strategy='median', verbose=0)\n",
      "h1_arterial_pco2_min SimpleImputer(copy=True, fill_value=None, missing_values=nan,\n",
      "       strategy='median', verbose=0)\n",
      "h1_arterial_ph_max SimpleImputer(copy=True, fill_value=None, missing_values=nan,\n",
      "       strategy='median', verbose=0)\n",
      "h1_arterial_ph_min SimpleImputer(copy=True, fill_value=None, missing_values=nan,\n",
      "       strategy='median', verbose=0)\n",
      "h1_arterial_po2_max SimpleImputer(copy=True, fill_value=None, missing_values=nan,\n",
      "       strategy='median', verbose=0)\n",
      "h1_arterial_po2_min SimpleImputer(copy=True, fill_value=None, missing_values=nan,\n",
      "       strategy='median', verbose=0)\n",
      "h1_bilirubin_max SimpleImputer(copy=True, fill_value=None, missing_values=nan,\n",
      "       strategy='median', verbose=0)\n",
      "h1_bilirubin_min SimpleImputer(copy=True, fill_value=None, missing_values=nan,\n",
      "       strategy='median', verbose=0)\n",
      "h1_bun_max SimpleImputer(copy=True, fill_value=None, missing_values=nan,\n",
      "       strategy='median', verbose=0)\n",
      "h1_bun_min SimpleImputer(copy=True, fill_value=None, missing_values=nan,\n",
      "       strategy='median', verbose=0)\n",
      "h1_calcium_max SimpleImputer(copy=True, fill_value=None, missing_values=nan,\n",
      "       strategy='median', verbose=0)\n",
      "h1_calcium_min SimpleImputer(copy=True, fill_value=None, missing_values=nan,\n",
      "       strategy='median', verbose=0)\n",
      "h1_creatinine_max SimpleImputer(copy=True, fill_value=None, missing_values=nan,\n",
      "       strategy='median', verbose=0)\n",
      "h1_creatinine_min SimpleImputer(copy=True, fill_value=None, missing_values=nan,\n",
      "       strategy='median', verbose=0)\n",
      "h1_diasbp_invasive_max SimpleImputer(copy=True, fill_value=None, missing_values=nan,\n",
      "       strategy='median', verbose=0)\n",
      "h1_diasbp_invasive_min SimpleImputer(copy=True, fill_value=None, missing_values=nan,\n",
      "       strategy='median', verbose=0)\n",
      "h1_diasbp_max SimpleImputer(copy=True, fill_value=None, missing_values=nan,\n",
      "       strategy='median', verbose=0)\n",
      "h1_diasbp_min SimpleImputer(copy=True, fill_value=None, missing_values=nan,\n",
      "       strategy='median', verbose=0)\n",
      "h1_diasbp_noninvasive_max SimpleImputer(copy=True, fill_value=None, missing_values=nan,\n",
      "       strategy='median', verbose=0)\n",
      "h1_diasbp_noninvasive_min SimpleImputer(copy=True, fill_value=None, missing_values=nan,\n",
      "       strategy='median', verbose=0)\n",
      "h1_glucose_max SimpleImputer(copy=True, fill_value=None, missing_values=nan,\n",
      "       strategy='median', verbose=0)\n",
      "h1_glucose_min SimpleImputer(copy=True, fill_value=None, missing_values=nan,\n",
      "       strategy='median', verbose=0)\n",
      "h1_hco3_max SimpleImputer(copy=True, fill_value=None, missing_values=nan,\n",
      "       strategy='median', verbose=0)\n",
      "h1_hco3_min SimpleImputer(copy=True, fill_value=None, missing_values=nan,\n",
      "       strategy='median', verbose=0)\n",
      "h1_heartrate_max SimpleImputer(copy=True, fill_value=None, missing_values=nan,\n",
      "       strategy='median', verbose=0)\n",
      "h1_heartrate_min SimpleImputer(copy=True, fill_value=None, missing_values=nan,\n",
      "       strategy='median', verbose=0)\n",
      "h1_hemaglobin_max SimpleImputer(copy=True, fill_value=None, missing_values=nan,\n",
      "       strategy='median', verbose=0)\n",
      "h1_hemaglobin_min SimpleImputer(copy=True, fill_value=None, missing_values=nan,\n",
      "       strategy='median', verbose=0)\n",
      "h1_hematocrit_max SimpleImputer(copy=True, fill_value=None, missing_values=nan,\n",
      "       strategy='median', verbose=0)\n",
      "h1_hematocrit_min SimpleImputer(copy=True, fill_value=None, missing_values=nan,\n",
      "       strategy='median', verbose=0)\n",
      "h1_inr_max SimpleImputer(copy=True, fill_value=None, missing_values=nan,\n",
      "       strategy='median', verbose=0)\n",
      "h1_inr_min SimpleImputer(copy=True, fill_value=None, missing_values=nan,\n",
      "       strategy='median', verbose=0)\n",
      "h1_lactate_max SimpleImputer(copy=True, fill_value=None, missing_values=nan,\n",
      "       strategy='median', verbose=0)\n",
      "h1_lactate_min SimpleImputer(copy=True, fill_value=None, missing_values=nan,\n",
      "       strategy='median', verbose=0)\n",
      "h1_mbp_invasive_max SimpleImputer(copy=True, fill_value=None, missing_values=nan,\n",
      "       strategy='median', verbose=0)\n",
      "h1_mbp_invasive_min SimpleImputer(copy=True, fill_value=None, missing_values=nan,\n",
      "       strategy='median', verbose=0)\n",
      "h1_mbp_max SimpleImputer(copy=True, fill_value=None, missing_values=nan,\n",
      "       strategy='median', verbose=0)\n",
      "h1_mbp_min SimpleImputer(copy=True, fill_value=None, missing_values=nan,\n",
      "       strategy='median', verbose=0)\n",
      "h1_mbp_noninvasive_max SimpleImputer(copy=True, fill_value=None, missing_values=nan,\n",
      "       strategy='median', verbose=0)\n",
      "h1_mbp_noninvasive_min SimpleImputer(copy=True, fill_value=None, missing_values=nan,\n",
      "       strategy='median', verbose=0)\n",
      "h1_pao2fio2ratio_max SimpleImputer(copy=True, fill_value=None, missing_values=nan,\n",
      "       strategy='median', verbose=0)\n",
      "h1_pao2fio2ratio_min SimpleImputer(copy=True, fill_value=None, missing_values=nan,\n",
      "       strategy='median', verbose=0)\n",
      "h1_platelets_max SimpleImputer(copy=True, fill_value=None, missing_values=nan,\n",
      "       strategy='median', verbose=0)\n",
      "h1_platelets_min SimpleImputer(copy=True, fill_value=None, missing_values=nan,\n",
      "       strategy='median', verbose=0)\n",
      "h1_potassium_max SimpleImputer(copy=True, fill_value=None, missing_values=nan,\n",
      "       strategy='median', verbose=0)\n",
      "h1_potassium_min SimpleImputer(copy=True, fill_value=None, missing_values=nan,\n",
      "       strategy='median', verbose=0)\n",
      "h1_resprate_max SimpleImputer(copy=True, fill_value=None, missing_values=nan,\n",
      "       strategy='median', verbose=0)\n",
      "h1_resprate_min SimpleImputer(copy=True, fill_value=None, missing_values=nan,\n",
      "       strategy='median', verbose=0)\n",
      "h1_sodium_max SimpleImputer(copy=True, fill_value=None, missing_values=nan,\n",
      "       strategy='median', verbose=0)\n",
      "h1_sodium_min SimpleImputer(copy=True, fill_value=None, missing_values=nan,\n",
      "       strategy='median', verbose=0)\n",
      "h1_spo2_max SimpleImputer(copy=True, fill_value=None, missing_values=nan,\n",
      "       strategy='median', verbose=0)\n",
      "h1_spo2_min SimpleImputer(copy=True, fill_value=None, missing_values=nan,\n",
      "       strategy='median', verbose=0)\n",
      "h1_sysbp_invasive_max SimpleImputer(copy=True, fill_value=None, missing_values=nan,\n",
      "       strategy='median', verbose=0)\n",
      "h1_sysbp_invasive_min SimpleImputer(copy=True, fill_value=None, missing_values=nan,\n",
      "       strategy='median', verbose=0)\n",
      "h1_sysbp_max SimpleImputer(copy=True, fill_value=None, missing_values=nan,\n",
      "       strategy='median', verbose=0)\n",
      "h1_sysbp_min SimpleImputer(copy=True, fill_value=None, missing_values=nan,\n",
      "       strategy='median', verbose=0)\n",
      "h1_sysbp_noninvasive_max SimpleImputer(copy=True, fill_value=None, missing_values=nan,\n",
      "       strategy='median', verbose=0)\n",
      "h1_sysbp_noninvasive_min SimpleImputer(copy=True, fill_value=None, missing_values=nan,\n",
      "       strategy='median', verbose=0)\n",
      "h1_temp_max SimpleImputer(copy=True, fill_value=None, missing_values=nan,\n",
      "       strategy='median', verbose=0)\n",
      "h1_temp_min SimpleImputer(copy=True, fill_value=None, missing_values=nan,\n",
      "       strategy='median', verbose=0)\n",
      "h1_wbc_max SimpleImputer(copy=True, fill_value=None, missing_values=nan,\n",
      "       strategy='median', verbose=0)\n",
      "h1_wbc_min SimpleImputer(copy=True, fill_value=None, missing_values=nan,\n",
      "       strategy='median', verbose=0)\n",
      "heart_rate_apache SimpleImputer(copy=True, fill_value=None, missing_values=nan,\n",
      "       strategy='median', verbose=0)\n",
      "height SimpleImputer(copy=True, fill_value=None, missing_values=nan,\n",
      "       strategy='median', verbose=0)\n",
      "hematocrit_apache SimpleImputer(copy=True, fill_value=None, missing_values=nan,\n",
      "       strategy='median', verbose=0)\n",
      "map_apache SimpleImputer(copy=True, fill_value=None, missing_values=nan,\n",
      "       strategy='median', verbose=0)\n",
      "paco2_apache SimpleImputer(copy=True, fill_value=None, missing_values=nan,\n",
      "       strategy='median', verbose=0)\n",
      "paco2_for_ph_apache SimpleImputer(copy=True, fill_value=None, missing_values=nan,\n",
      "       strategy='median', verbose=0)\n",
      "pao2_apache SimpleImputer(copy=True, fill_value=None, missing_values=nan,\n",
      "       strategy='median', verbose=0)\n",
      "ph_apache SimpleImputer(copy=True, fill_value=None, missing_values=nan,\n",
      "       strategy='median', verbose=0)\n",
      "pre_icu_los_days SimpleImputer(copy=True, fill_value=None, missing_values=nan,\n",
      "       strategy='median', verbose=0)\n",
      "resprate_apache SimpleImputer(copy=True, fill_value=None, missing_values=nan,\n",
      "       strategy='median', verbose=0)\n"
     ]
    },
    {
     "name": "stdout",
     "output_type": "stream",
     "text": [
      "sodium_apache SimpleImputer(copy=True, fill_value=None, missing_values=nan,\n",
      "       strategy='median', verbose=0)\n",
      "temp_apache SimpleImputer(copy=True, fill_value=None, missing_values=nan,\n",
      "       strategy='median', verbose=0)\n",
      "urineoutput_apache SimpleImputer(copy=True, fill_value=None, missing_values=nan,\n",
      "       strategy='median', verbose=0)\n",
      "wbc_apache SimpleImputer(copy=True, fill_value=None, missing_values=nan,\n",
      "       strategy='median', verbose=0)\n",
      "weight SimpleImputer(copy=True, fill_value=None, missing_values=nan,\n",
      "       strategy='median', verbose=0)\n",
      "apache_post_operative SimpleImputer(copy=True, fill_value=None, missing_values=nan,\n",
      "       strategy='most_frequent', verbose=0)\n",
      "arf_apache SimpleImputer(copy=True, fill_value=None, missing_values=nan,\n",
      "       strategy='most_frequent', verbose=0)\n",
      "cirrhosis SimpleImputer(copy=True, fill_value=None, missing_values=nan,\n",
      "       strategy='most_frequent', verbose=0)\n",
      "diabetes_mellitus SimpleImputer(copy=True, fill_value=None, missing_values=nan,\n",
      "       strategy='most_frequent', verbose=0)\n",
      "immunosuppression SimpleImputer(copy=True, fill_value=None, missing_values=nan,\n",
      "       strategy='most_frequent', verbose=0)\n",
      "hepatic_failure SimpleImputer(copy=True, fill_value=None, missing_values=nan,\n",
      "       strategy='most_frequent', verbose=0)\n",
      "leukemia SimpleImputer(copy=True, fill_value=None, missing_values=nan,\n",
      "       strategy='most_frequent', verbose=0)\n",
      "lymphoma SimpleImputer(copy=True, fill_value=None, missing_values=nan,\n",
      "       strategy='most_frequent', verbose=0)\n",
      "solid_tumor_with_metastasis SimpleImputer(copy=True, fill_value=None, missing_values=nan,\n",
      "       strategy='most_frequent', verbose=0)\n",
      "gcs_unable_apache SimpleImputer(copy=True, fill_value=None, missing_values=nan,\n",
      "       strategy='most_frequent', verbose=0)\n",
      "intubated_apache SimpleImputer(copy=True, fill_value=None, missing_values=nan,\n",
      "       strategy='most_frequent', verbose=0)\n",
      "ventilated_apache SimpleImputer(copy=True, fill_value=None, missing_values=nan,\n",
      "       strategy='most_frequent', verbose=0)\n",
      "elective_surgery SimpleImputer(copy=True, fill_value=None, missing_values=nan,\n",
      "       strategy='most_frequent', verbose=0)\n",
      "\n"
     ]
    }
   ],
   "source": [
    "for imp_mapping_obj in tqdm_notebook(all_imp_dicts):\n",
    "    for col, imp_object in imp_mapping_obj.items():\n",
    "#         print(col, imp_object)\n",
    "        data = df[col].values.reshape(-1, 1)\n",
    "        data = imp_object.transform(data)\n",
    "        df[col] = list(data.reshape(-1,))\n",
    "\n"
   ]
  },
  {
   "cell_type": "code",
   "execution_count": 71,
   "metadata": {},
   "outputs": [
    {
     "data": {
      "application/vnd.jupyter.widget-view+json": {
       "model_id": "04f15b5b21f14411bbee50f5a68e2cd8",
       "version_major": 2,
       "version_minor": 0
      },
      "text/plain": [
       "HBox(children=(IntProgress(value=0, max=3), HTML(value='')))"
      ]
     },
     "metadata": {},
     "output_type": "display_data"
    },
    {
     "name": "stdout",
     "output_type": "stream",
     "text": [
      "\n"
     ]
    }
   ],
   "source": [
    "# inputing on test \n",
    "for imp_mapping_obj in tqdm_notebook(all_imp_dicts):\n",
    "    for col, imp_object in imp_mapping_obj.items():\n",
    "        data = df_test[col].values.reshape(-1, 1)\n",
    "        data = imp_object.transform(data)\n",
    "        df_test[col] = list(data.reshape(-1,))"
   ]
  },
  {
   "cell_type": "code",
   "execution_count": 72,
   "metadata": {},
   "outputs": [],
   "source": [
    "traindf = df\n",
    "traindf[target_column] = labels\n",
    "traindf.to_csv('./train_processed.csv')"
   ]
  },
  {
   "cell_type": "code",
   "execution_count": 73,
   "metadata": {},
   "outputs": [
    {
     "data": {
      "text/html": [
       "<div>\n",
       "<style scoped>\n",
       "    .dataframe tbody tr th:only-of-type {\n",
       "        vertical-align: middle;\n",
       "    }\n",
       "\n",
       "    .dataframe tbody tr th {\n",
       "        vertical-align: top;\n",
       "    }\n",
       "\n",
       "    .dataframe thead th {\n",
       "        text-align: right;\n",
       "    }\n",
       "</style>\n",
       "<table border=\"1\" class=\"dataframe\">\n",
       "  <thead>\n",
       "    <tr style=\"text-align: right;\">\n",
       "      <th></th>\n",
       "      <th>age</th>\n",
       "      <th>bmi</th>\n",
       "      <th>elective_surgery</th>\n",
       "      <th>ethnicity</th>\n",
       "      <th>gender</th>\n",
       "      <th>height</th>\n",
       "      <th>hospital_admit_source</th>\n",
       "      <th>icu_admit_source</th>\n",
       "      <th>icu_stay_type</th>\n",
       "      <th>icu_type</th>\n",
       "      <th>...</th>\n",
       "      <th>cirrhosis</th>\n",
       "      <th>diabetes_mellitus</th>\n",
       "      <th>hepatic_failure</th>\n",
       "      <th>immunosuppression</th>\n",
       "      <th>leukemia</th>\n",
       "      <th>lymphoma</th>\n",
       "      <th>solid_tumor_with_metastasis</th>\n",
       "      <th>apache_3j_bodysystem</th>\n",
       "      <th>apache_2_bodysystem</th>\n",
       "      <th>hospital_death</th>\n",
       "    </tr>\n",
       "  </thead>\n",
       "  <tbody>\n",
       "    <tr>\n",
       "      <th>0</th>\n",
       "      <td>68.0</td>\n",
       "      <td>22.730000</td>\n",
       "      <td>0</td>\n",
       "      <td>2</td>\n",
       "      <td>1</td>\n",
       "      <td>180.3</td>\n",
       "      <td>4</td>\n",
       "      <td>1</td>\n",
       "      <td>0</td>\n",
       "      <td>2</td>\n",
       "      <td>...</td>\n",
       "      <td>0.0</td>\n",
       "      <td>1.0</td>\n",
       "      <td>0.0</td>\n",
       "      <td>0.0</td>\n",
       "      <td>0.0</td>\n",
       "      <td>0.0</td>\n",
       "      <td>0.0</td>\n",
       "      <td>9</td>\n",
       "      <td>0</td>\n",
       "      <td>0</td>\n",
       "    </tr>\n",
       "    <tr>\n",
       "      <th>1</th>\n",
       "      <td>77.0</td>\n",
       "      <td>27.420000</td>\n",
       "      <td>0</td>\n",
       "      <td>2</td>\n",
       "      <td>0</td>\n",
       "      <td>160.0</td>\n",
       "      <td>4</td>\n",
       "      <td>1</td>\n",
       "      <td>0</td>\n",
       "      <td>5</td>\n",
       "      <td>...</td>\n",
       "      <td>0.0</td>\n",
       "      <td>1.0</td>\n",
       "      <td>0.0</td>\n",
       "      <td>0.0</td>\n",
       "      <td>0.0</td>\n",
       "      <td>0.0</td>\n",
       "      <td>0.0</td>\n",
       "      <td>8</td>\n",
       "      <td>6</td>\n",
       "      <td>0</td>\n",
       "    </tr>\n",
       "    <tr>\n",
       "      <th>2</th>\n",
       "      <td>25.0</td>\n",
       "      <td>31.950000</td>\n",
       "      <td>0</td>\n",
       "      <td>2</td>\n",
       "      <td>0</td>\n",
       "      <td>172.7</td>\n",
       "      <td>3</td>\n",
       "      <td>0</td>\n",
       "      <td>0</td>\n",
       "      <td>5</td>\n",
       "      <td>...</td>\n",
       "      <td>0.0</td>\n",
       "      <td>0.0</td>\n",
       "      <td>0.0</td>\n",
       "      <td>0.0</td>\n",
       "      <td>0.0</td>\n",
       "      <td>0.0</td>\n",
       "      <td>0.0</td>\n",
       "      <td>5</td>\n",
       "      <td>3</td>\n",
       "      <td>0</td>\n",
       "    </tr>\n",
       "    <tr>\n",
       "      <th>3</th>\n",
       "      <td>81.0</td>\n",
       "      <td>22.640000</td>\n",
       "      <td>1</td>\n",
       "      <td>2</td>\n",
       "      <td>0</td>\n",
       "      <td>165.1</td>\n",
       "      <td>8</td>\n",
       "      <td>2</td>\n",
       "      <td>0</td>\n",
       "      <td>2</td>\n",
       "      <td>...</td>\n",
       "      <td>0.0</td>\n",
       "      <td>0.0</td>\n",
       "      <td>0.0</td>\n",
       "      <td>0.0</td>\n",
       "      <td>0.0</td>\n",
       "      <td>0.0</td>\n",
       "      <td>0.0</td>\n",
       "      <td>0</td>\n",
       "      <td>0</td>\n",
       "      <td>0</td>\n",
       "    </tr>\n",
       "    <tr>\n",
       "      <th>4</th>\n",
       "      <td>19.0</td>\n",
       "      <td>27.654655</td>\n",
       "      <td>0</td>\n",
       "      <td>2</td>\n",
       "      <td>1</td>\n",
       "      <td>188.0</td>\n",
       "      <td>15</td>\n",
       "      <td>0</td>\n",
       "      <td>0</td>\n",
       "      <td>5</td>\n",
       "      <td>...</td>\n",
       "      <td>0.0</td>\n",
       "      <td>0.0</td>\n",
       "      <td>0.0</td>\n",
       "      <td>0.0</td>\n",
       "      <td>0.0</td>\n",
       "      <td>0.0</td>\n",
       "      <td>0.0</td>\n",
       "      <td>10</td>\n",
       "      <td>7</td>\n",
       "      <td>0</td>\n",
       "    </tr>\n",
       "  </tbody>\n",
       "</table>\n",
       "<p>5 rows × 181 columns</p>\n",
       "</div>"
      ],
      "text/plain": [
       "    age        bmi  elective_surgery  ethnicity  gender  height  \\\n",
       "0  68.0  22.730000                 0          2       1   180.3   \n",
       "1  77.0  27.420000                 0          2       0   160.0   \n",
       "2  25.0  31.950000                 0          2       0   172.7   \n",
       "3  81.0  22.640000                 1          2       0   165.1   \n",
       "4  19.0  27.654655                 0          2       1   188.0   \n",
       "\n",
       "   hospital_admit_source  icu_admit_source  icu_stay_type  icu_type  ...  \\\n",
       "0                      4                 1              0         2  ...   \n",
       "1                      4                 1              0         5  ...   \n",
       "2                      3                 0              0         5  ...   \n",
       "3                      8                 2              0         2  ...   \n",
       "4                     15                 0              0         5  ...   \n",
       "\n",
       "   cirrhosis  diabetes_mellitus  hepatic_failure  immunosuppression  leukemia  \\\n",
       "0        0.0                1.0              0.0                0.0       0.0   \n",
       "1        0.0                1.0              0.0                0.0       0.0   \n",
       "2        0.0                0.0              0.0                0.0       0.0   \n",
       "3        0.0                0.0              0.0                0.0       0.0   \n",
       "4        0.0                0.0              0.0                0.0       0.0   \n",
       "\n",
       "   lymphoma  solid_tumor_with_metastasis  apache_3j_bodysystem  \\\n",
       "0       0.0                          0.0                     9   \n",
       "1       0.0                          0.0                     8   \n",
       "2       0.0                          0.0                     5   \n",
       "3       0.0                          0.0                     0   \n",
       "4       0.0                          0.0                    10   \n",
       "\n",
       "   apache_2_bodysystem  hospital_death  \n",
       "0                    0               0  \n",
       "1                    6               0  \n",
       "2                    3               0  \n",
       "3                    0               0  \n",
       "4                    7               0  \n",
       "\n",
       "[5 rows x 181 columns]"
      ]
     },
     "execution_count": 73,
     "metadata": {},
     "output_type": "execute_result"
    }
   ],
   "source": [
    "traindf.head()"
   ]
  },
  {
   "cell_type": "code",
   "execution_count": 82,
   "metadata": {},
   "outputs": [],
   "source": [
    "df_test.to_csv('./unlabeled_processed.csv')"
   ]
  },
  {
   "cell_type": "code",
   "execution_count": 83,
   "metadata": {},
   "outputs": [],
   "source": [
    "test_encids = pd.read_csv('/home/deepta/data/wids2020/unlabeled.csv', skipinitialspace=True)['encounter_id']"
   ]
  },
  {
   "cell_type": "code",
   "execution_count": 90,
   "metadata": {},
   "outputs": [
    {
     "name": "stderr",
     "output_type": "stream",
     "text": [
      "/home/deepta/anaconda3/envs/torch/lib/python3.6/site-packages/ipykernel_launcher.py:1: FutureWarning: The signature of `Series.to_csv` was aligned to that of `DataFrame.to_csv`, and argument 'header' will change its default value from False to True: please pass an explicit value to suppress this warning.\n",
      "  \"\"\"Entry point for launching an IPython kernel.\n"
     ]
    }
   ],
   "source": [
    "test_encids.to_csv('./resids.csv', index=False)"
   ]
  },
  {
   "cell_type": "markdown",
   "metadata": {},
   "source": [
    "### Submission CSV"
   ]
  },
  {
   "cell_type": "code",
   "execution_count": 91,
   "metadata": {},
   "outputs": [
    {
     "data": {
      "text/html": [
       "<div>\n",
       "<style scoped>\n",
       "    .dataframe tbody tr th:only-of-type {\n",
       "        vertical-align: middle;\n",
       "    }\n",
       "\n",
       "    .dataframe tbody tr th {\n",
       "        vertical-align: top;\n",
       "    }\n",
       "\n",
       "    .dataframe thead th {\n",
       "        text-align: right;\n",
       "    }\n",
       "</style>\n",
       "<table border=\"1\" class=\"dataframe\">\n",
       "  <thead>\n",
       "    <tr style=\"text-align: right;\">\n",
       "      <th></th>\n",
       "      <th>encounter_id</th>\n",
       "      <th>hospital_death</th>\n",
       "    </tr>\n",
       "  </thead>\n",
       "  <tbody>\n",
       "    <tr>\n",
       "      <th>0</th>\n",
       "      <td>2</td>\n",
       "      <td>NaN</td>\n",
       "    </tr>\n",
       "    <tr>\n",
       "      <th>1</th>\n",
       "      <td>5</td>\n",
       "      <td>NaN</td>\n",
       "    </tr>\n",
       "    <tr>\n",
       "      <th>2</th>\n",
       "      <td>7</td>\n",
       "      <td>NaN</td>\n",
       "    </tr>\n",
       "    <tr>\n",
       "      <th>3</th>\n",
       "      <td>8</td>\n",
       "      <td>NaN</td>\n",
       "    </tr>\n",
       "    <tr>\n",
       "      <th>4</th>\n",
       "      <td>10</td>\n",
       "      <td>NaN</td>\n",
       "    </tr>\n",
       "  </tbody>\n",
       "</table>\n",
       "</div>"
      ],
      "text/plain": [
       "   encounter_id  hospital_death\n",
       "0             2             NaN\n",
       "1             5             NaN\n",
       "2             7             NaN\n",
       "3             8             NaN\n",
       "4            10             NaN"
      ]
     },
     "execution_count": 91,
     "metadata": {},
     "output_type": "execute_result"
    }
   ],
   "source": [
    "res = pd.read_csv('./resids.csv', names=['encounter_id', 'hospital_death'])\n",
    "res.head()"
   ]
  },
  {
   "cell_type": "code",
   "execution_count": null,
   "metadata": {},
   "outputs": [],
   "source": []
  }
 ],
 "metadata": {
  "kernelspec": {
   "display_name": "Python (torch)",
   "language": "python",
   "name": "torch"
  },
  "language_info": {
   "codemirror_mode": {
    "name": "ipython",
    "version": 3
   },
   "file_extension": ".py",
   "mimetype": "text/x-python",
   "name": "python",
   "nbconvert_exporter": "python",
   "pygments_lexer": "ipython3",
   "version": "3.6.8"
  }
 },
 "nbformat": 4,
 "nbformat_minor": 2
}
